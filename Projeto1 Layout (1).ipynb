{
 "cells": [
  {
   "cell_type": "markdown",
   "metadata": {},
   "source": [
    "___\n",
    "# Ciência dos Dados - PROJETO 1"
   ]
  },
  {
   "cell_type": "markdown",
   "metadata": {},
   "source": [
    "## Luciana Cocito Alves de Freitas\n",
    "___"
   ]
  },
  {
   "cell_type": "markdown",
   "metadata": {},
   "source": [
    "## Diferença salarial de gênero, com pessoas de 24 à 60 anos, nas regiões de maior e menor renda do Brasil."
   ]
  },
  {
   "cell_type": "markdown",
   "metadata": {},
   "source": [
    "___\n",
    "## Introdução\n",
    "\n",
    "Esse projeto tem como finalidade analisar a existência de desigualdade salarial entre homens e mulheres, e, a partir disso, mostrar sua relação com o ensino e as regiões de maior e menor renda no Brasil, entre pessoas de 24 à 60 anos, no decorrer de 4 anos (2011-2015).\n",
    "\n",
    "Toda a comparação foi feita baseada na faixa de valores de salário mínimo para os diferentes anos analisados (2011 = 545, 2015 = 788 reais)."
   ]
  },
  {
   "cell_type": "markdown",
   "metadata": {},
   "source": [
    "___\n",
    "## Filtros da base de dados"
   ]
  },
  {
   "cell_type": "code",
   "execution_count": 55,
   "metadata": {
    "collapsed": true
   },
   "outputs": [],
   "source": [
    "%matplotlib inline\n",
    "import pandas as pd\n",
    "import matplotlib.pyplot as plt\n",
    "import numpy as np\n",
    "import os\n",
    "from numpy import arange"
   ]
  },
  {
   "cell_type": "code",
   "execution_count": 56,
   "metadata": {},
   "outputs": [
    {
     "name": "stdout",
     "output_type": "stream",
     "text": [
      "Esperamos trabalhar no diretório\n",
      "C:\\Users\\lucia\\OneDrive\\Documentos\\GitHub\\CD DP\\P1\n"
     ]
    }
   ],
   "source": [
    "print('Esperamos trabalhar no diretório')\n",
    "print(os.getcwd())"
   ]
  },
  {
   "cell_type": "code",
   "execution_count": 57,
   "metadata": {},
   "outputs": [
    {
     "data": {
      "text/html": [
       "<div>\n",
       "<style>\n",
       "    .dataframe thead tr:only-child th {\n",
       "        text-align: right;\n",
       "    }\n",
       "\n",
       "    .dataframe thead th {\n",
       "        text-align: left;\n",
       "    }\n",
       "\n",
       "    .dataframe tbody tr th {\n",
       "        vertical-align: top;\n",
       "    }\n",
       "</style>\n",
       "<table border=\"1\" class=\"dataframe\">\n",
       "  <thead>\n",
       "    <tr style=\"text-align: right;\">\n",
       "      <th></th>\n",
       "      <th>V0101</th>\n",
       "      <th>UF</th>\n",
       "      <th>V0102</th>\n",
       "      <th>V0103</th>\n",
       "      <th>V0301</th>\n",
       "      <th>V0302</th>\n",
       "      <th>V3031</th>\n",
       "      <th>V3032</th>\n",
       "      <th>V3033</th>\n",
       "      <th>V8005</th>\n",
       "      <th>...</th>\n",
       "      <th>V4741</th>\n",
       "      <th>V4742</th>\n",
       "      <th>V4743</th>\n",
       "      <th>V4745</th>\n",
       "      <th>V4746</th>\n",
       "      <th>V4747</th>\n",
       "      <th>V4748</th>\n",
       "      <th>V4749</th>\n",
       "      <th>V4750</th>\n",
       "      <th>V9993</th>\n",
       "    </tr>\n",
       "  </thead>\n",
       "  <tbody>\n",
       "    <tr>\n",
       "      <th>0</th>\n",
       "      <td>2011</td>\n",
       "      <td>11</td>\n",
       "      <td>11000000.0</td>\n",
       "      <td>1</td>\n",
       "      <td>1</td>\n",
       "      <td>2</td>\n",
       "      <td>25</td>\n",
       "      <td>12</td>\n",
       "      <td>1961</td>\n",
       "      <td>49</td>\n",
       "      <td>...</td>\n",
       "      <td>4.0</td>\n",
       "      <td>1.000000e+12</td>\n",
       "      <td>99.0</td>\n",
       "      <td>2</td>\n",
       "      <td>1.0</td>\n",
       "      <td>2.0</td>\n",
       "      <td>2.0</td>\n",
       "      <td>1.0</td>\n",
       "      <td>1.000000e+12</td>\n",
       "      <td>20100000.0</td>\n",
       "    </tr>\n",
       "    <tr>\n",
       "      <th>1</th>\n",
       "      <td>2011</td>\n",
       "      <td>11</td>\n",
       "      <td>11000000.0</td>\n",
       "      <td>1</td>\n",
       "      <td>2</td>\n",
       "      <td>4</td>\n",
       "      <td>1</td>\n",
       "      <td>4</td>\n",
       "      <td>1978</td>\n",
       "      <td>33</td>\n",
       "      <td>...</td>\n",
       "      <td>4.0</td>\n",
       "      <td>1.000000e+12</td>\n",
       "      <td>99.0</td>\n",
       "      <td>6</td>\n",
       "      <td>2.0</td>\n",
       "      <td>NaN</td>\n",
       "      <td>NaN</td>\n",
       "      <td>2.0</td>\n",
       "      <td>1.000000e+12</td>\n",
       "      <td>20100000.0</td>\n",
       "    </tr>\n",
       "    <tr>\n",
       "      <th>2</th>\n",
       "      <td>2011</td>\n",
       "      <td>11</td>\n",
       "      <td>11000000.0</td>\n",
       "      <td>1</td>\n",
       "      <td>3</td>\n",
       "      <td>4</td>\n",
       "      <td>15</td>\n",
       "      <td>6</td>\n",
       "      <td>1996</td>\n",
       "      <td>15</td>\n",
       "      <td>...</td>\n",
       "      <td>4.0</td>\n",
       "      <td>1.000000e+12</td>\n",
       "      <td>99.0</td>\n",
       "      <td>3</td>\n",
       "      <td>2.0</td>\n",
       "      <td>NaN</td>\n",
       "      <td>NaN</td>\n",
       "      <td>2.0</td>\n",
       "      <td>1.000000e+12</td>\n",
       "      <td>20100000.0</td>\n",
       "    </tr>\n",
       "    <tr>\n",
       "      <th>3</th>\n",
       "      <td>2011</td>\n",
       "      <td>11</td>\n",
       "      <td>11000000.0</td>\n",
       "      <td>1</td>\n",
       "      <td>4</td>\n",
       "      <td>2</td>\n",
       "      <td>3</td>\n",
       "      <td>12</td>\n",
       "      <td>2001</td>\n",
       "      <td>9</td>\n",
       "      <td>...</td>\n",
       "      <td>4.0</td>\n",
       "      <td>1.000000e+12</td>\n",
       "      <td>99.0</td>\n",
       "      <td>2</td>\n",
       "      <td>2.0</td>\n",
       "      <td>NaN</td>\n",
       "      <td>NaN</td>\n",
       "      <td>2.0</td>\n",
       "      <td>1.000000e+12</td>\n",
       "      <td>20100000.0</td>\n",
       "    </tr>\n",
       "    <tr>\n",
       "      <th>4</th>\n",
       "      <td>2011</td>\n",
       "      <td>11</td>\n",
       "      <td>11000000.0</td>\n",
       "      <td>2</td>\n",
       "      <td>1</td>\n",
       "      <td>4</td>\n",
       "      <td>16</td>\n",
       "      <td>10</td>\n",
       "      <td>1959</td>\n",
       "      <td>51</td>\n",
       "      <td>...</td>\n",
       "      <td>4.0</td>\n",
       "      <td>1.461000e+03</td>\n",
       "      <td>5.0</td>\n",
       "      <td>4</td>\n",
       "      <td>1.0</td>\n",
       "      <td>2.0</td>\n",
       "      <td>2.0</td>\n",
       "      <td>1.0</td>\n",
       "      <td>1.461000e+03</td>\n",
       "      <td>20100000.0</td>\n",
       "    </tr>\n",
       "  </tbody>\n",
       "</table>\n",
       "<p>5 rows × 324 columns</p>\n",
       "</div>"
      ],
      "text/plain": [
       "   V0101  UF       V0102  V0103  V0301  V0302  V3031  V3032  V3033  V8005  \\\n",
       "0   2011  11  11000000.0      1      1      2     25     12   1961     49   \n",
       "1   2011  11  11000000.0      1      2      4      1      4   1978     33   \n",
       "2   2011  11  11000000.0      1      3      4     15      6   1996     15   \n",
       "3   2011  11  11000000.0      1      4      2      3     12   2001      9   \n",
       "4   2011  11  11000000.0      2      1      4     16     10   1959     51   \n",
       "\n",
       "      ...      V4741         V4742  V4743  V4745  V4746  V4747  V4748  V4749  \\\n",
       "0     ...        4.0  1.000000e+12   99.0      2    1.0    2.0    2.0    1.0   \n",
       "1     ...        4.0  1.000000e+12   99.0      6    2.0    NaN    NaN    2.0   \n",
       "2     ...        4.0  1.000000e+12   99.0      3    2.0    NaN    NaN    2.0   \n",
       "3     ...        4.0  1.000000e+12   99.0      2    2.0    NaN    NaN    2.0   \n",
       "4     ...        4.0  1.461000e+03    5.0      4    1.0    2.0    2.0    1.0   \n",
       "\n",
       "          V4750       V9993  \n",
       "0  1.000000e+12  20100000.0  \n",
       "1  1.000000e+12  20100000.0  \n",
       "2  1.000000e+12  20100000.0  \n",
       "3  1.000000e+12  20100000.0  \n",
       "4  1.461000e+03  20100000.0  \n",
       "\n",
       "[5 rows x 324 columns]"
      ]
     },
     "execution_count": 57,
     "metadata": {},
     "output_type": "execute_result"
    }
   ],
   "source": [
    "#PNAD 2011\n",
    "\n",
    "dado = pd.read_csv(\"PES2011csv.zip\", compression = \"zip\", header = 0, sep = \",\", quotechar = '\"')\n",
    "dado.head()"
   ]
  },
  {
   "cell_type": "code",
   "execution_count": 59,
   "metadata": {
    "collapsed": true
   },
   "outputs": [],
   "source": [
    "#variáveis a serem utilizadas\n",
    "\n",
    "dado = dado.loc[:, [\"UF\", \"V0302\", \"V8005\",\"V4801\", \"V4718\"]]\n",
    "dado.to_csv(\"resumo.csv\") #salva em um arquivo no excel\n",
    "dado.UF = dado.UF.astype('category')\n",
    "dado.UF.cat.categories = ('Rondônia','Acre','Amazonas','Roraima','Pará','Amapá','Tocantins','Maranhão','Piauí','Ceará','Rio Grande do Norte','Paraíba','Pernambuco','Alagoas','Sergipe','Bahia','Minas Gerais','Espírito Santo','Rio de Janeiro','São Paulo','Paraná','Santa Catarina','Rio Grande do Sul','Mato Grosso do Sul','Mato Grosso','Goiás','Distrito Federal')\n",
    "dado.V0302 = dado.V0302.astype('category')\n",
    "dado.V0302.cat.categories = ('Homem', 'Mulher')\n",
    "dado.V4801 = dado.V4801.astype('category')\n",
    "dado.V4801.cat.categories = ('Maternal, jardim de infância etc.','Classe de alfabetização','Alfabetização de adultos','1ª série do ensino fundamental regular em 8 anos','2ª série do ensino fundamental regular em 8 anos','3ª série do ensino fundamental regular em 8 anos','4ª série do ensino fundamental regular em 8 anos','5ª série do ensino fundamental regular em 8 anos','6ª série do ensino fundamental regular em 8 anos','7ª série do ensino fundamental regular em 8 anos','8ª série do ensino fundamental regular em 8 anos','1ª série do ensino fundamental regular em 9 anos','2ª série do ensino fundamental regular em 9 anos','3ª série do ensino fundamental regular em 9 anos','4ª série do ensino fundamental regular em 9 anos','5ª série do ensino fundamental regular em 9 anos','6ª série do ensino fundamental regular em 9 anos','7ª série do ensino fundamental regular em 9 anos','8ª série do ensino fundamental regular em 9 anos','9ª série do ensino fundamental regular em 9 anos','Educação de jovens e adultos do ensino fundamental (seriado e não seriado)','Regular do ensino médio ','Educação de jovens e adultos do ensino médio','Pré-vestibular','Superior, inclusive mestrado e doutorado')\n",
    "dado.loc[(dado.UF=='Rondônia') | (dado.UF=='Acre') | (dado.UF=='Amazonas') | (dado.UF=='Roraima') | (dado.UF=='Pará') | (dado.UF=='Amapá') | (dado.UF=='Tocantins'),'Região'] = 'Norte'\n",
    "dado.loc[(dado.UF=='Maranhão') | (dado.UF=='Piaui') | (dado.UF=='Caerá') | (dado.UF=='Rio Grande do Norte') | (dado.UF=='Paraíba') | (dado.UF=='Pernambuco') | (dado.UF=='Alagoas') | (dado.UF=='Sergipe') | (dado.UF=='Bahia'),'Região'] = 'Nordeste'\n",
    "dado.loc[(dado.UF=='Minas Gerais') | (dado.UF=='Espirito Santo') | (dado.UF=='Rio de Janeiro') | (dado.UF=='São Paulo'),'Região'] = 'Sudeste'\n",
    "dado.loc[(dado.UF=='Paraná') | (dado.UF=='Santa Catarina') | (dado.UF=='Rio Grande do Sul'),'Região'] = 'Sul'\n",
    "dado.loc[(dado.UF=='Mato Grosso do Sul') | (dado.UF=='Mato Grosso') | (dado.UF=='Goiás') | (dado.UF=='Distrito Federal'),'Região'] = 'Centroeste'"
   ]
  },
  {
   "cell_type": "code",
   "execution_count": 65,
   "metadata": {
    "collapsed": true
   },
   "outputs": [],
   "source": [
    "#filtragem de dados de acordo com a análise a ser feita\n",
    "\n",
    "dado=dado[(dado.V8005>=24)&(dado.V8005<=60)&(dado.V4718<50000)]\n",
    "filtro1=dado.loc[(dado.V4801==\"Regular do ensino médio \")| (dado.V4801==\"Educação de jovens e adultos do ensino médio\")|(dado.V4801==\"Pré-vestibular\")|(dado.V4801==\"Superior, inclusive mestrado e doutorado\")]\n",
    "dado_not_null = filtro1[pd.notnull(filtro1.V0302)& pd.notnull(filtro1.V8005)& pd.notnull(filtro1.V4801)& pd.notnull(filtro1.V4718)]"
   ]
  },
  {
   "cell_type": "code",
   "execution_count": 61,
   "metadata": {},
   "outputs": [
    {
     "data": {
      "text/html": [
       "<div>\n",
       "<style>\n",
       "    .dataframe thead tr:only-child th {\n",
       "        text-align: right;\n",
       "    }\n",
       "\n",
       "    .dataframe thead th {\n",
       "        text-align: left;\n",
       "    }\n",
       "\n",
       "    .dataframe tbody tr th {\n",
       "        vertical-align: top;\n",
       "    }\n",
       "</style>\n",
       "<table border=\"1\" class=\"dataframe\">\n",
       "  <thead>\n",
       "    <tr style=\"text-align: right;\">\n",
       "      <th></th>\n",
       "      <th>Ensino</th>\n",
       "      <th>Idade</th>\n",
       "      <th>Região</th>\n",
       "      <th>Rendimento mensal</th>\n",
       "      <th>Sexo</th>\n",
       "    </tr>\n",
       "  </thead>\n",
       "  <tbody>\n",
       "    <tr>\n",
       "      <th>19</th>\n",
       "      <td>Regular do ensino médio</td>\n",
       "      <td>24</td>\n",
       "      <td>Norte</td>\n",
       "      <td>900.0</td>\n",
       "      <td>Homem</td>\n",
       "    </tr>\n",
       "    <tr>\n",
       "      <th>188</th>\n",
       "      <td>Educação de jovens e adultos do ensino médio</td>\n",
       "      <td>38</td>\n",
       "      <td>Norte</td>\n",
       "      <td>1000.0</td>\n",
       "      <td>Homem</td>\n",
       "    </tr>\n",
       "    <tr>\n",
       "      <th>189</th>\n",
       "      <td>Superior, inclusive mestrado e doutorado</td>\n",
       "      <td>31</td>\n",
       "      <td>Norte</td>\n",
       "      <td>545.0</td>\n",
       "      <td>Mulher</td>\n",
       "    </tr>\n",
       "    <tr>\n",
       "      <th>220</th>\n",
       "      <td>Educação de jovens e adultos do ensino médio</td>\n",
       "      <td>47</td>\n",
       "      <td>Norte</td>\n",
       "      <td>250.0</td>\n",
       "      <td>Mulher</td>\n",
       "    </tr>\n",
       "    <tr>\n",
       "      <th>262</th>\n",
       "      <td>Educação de jovens e adultos do ensino médio</td>\n",
       "      <td>32</td>\n",
       "      <td>Norte</td>\n",
       "      <td>450.0</td>\n",
       "      <td>Mulher</td>\n",
       "    </tr>\n",
       "  </tbody>\n",
       "</table>\n",
       "</div>"
      ],
      "text/plain": [
       "                                           Ensino  Idade Região  \\\n",
       "19                       Regular do ensino médio      24  Norte   \n",
       "188  Educação de jovens e adultos do ensino médio     38  Norte   \n",
       "189      Superior, inclusive mestrado e doutorado     31  Norte   \n",
       "220  Educação de jovens e adultos do ensino médio     47  Norte   \n",
       "262  Educação de jovens e adultos do ensino médio     32  Norte   \n",
       "\n",
       "     Rendimento mensal    Sexo  \n",
       "19               900.0   Homem  \n",
       "188             1000.0   Homem  \n",
       "189              545.0  Mulher  \n",
       "220              250.0  Mulher  \n",
       "262              450.0  Mulher  "
      ]
     },
     "execution_count": 61,
     "metadata": {},
     "output_type": "execute_result"
    }
   ],
   "source": [
    "#Dataframe completa\n",
    "\n",
    "DFALL = pd.DataFrame({'Região':dado_not_null['Região'],'Sexo':dado_not_null.V0302,'Idade':dado_not_null.V8005,'Ensino':dado_not_null.V4801,'Rendimento mensal':dado_not_null.V4718})\n",
    "DFALL.head()"
   ]
  },
  {
   "cell_type": "code",
   "execution_count": 7,
   "metadata": {},
   "outputs": [
    {
     "data": {
      "text/html": [
       "<div>\n",
       "<style>\n",
       "    .dataframe thead tr:only-child th {\n",
       "        text-align: right;\n",
       "    }\n",
       "\n",
       "    .dataframe thead th {\n",
       "        text-align: left;\n",
       "    }\n",
       "\n",
       "    .dataframe tbody tr th {\n",
       "        vertical-align: top;\n",
       "    }\n",
       "</style>\n",
       "<table border=\"1\" class=\"dataframe\">\n",
       "  <thead>\n",
       "    <tr style=\"text-align: right;\">\n",
       "      <th></th>\n",
       "      <th>Unnamed: 0</th>\n",
       "      <th>V0101</th>\n",
       "      <th>UF</th>\n",
       "      <th>V0102</th>\n",
       "      <th>V0103</th>\n",
       "      <th>V0301</th>\n",
       "      <th>V0302</th>\n",
       "      <th>V3031</th>\n",
       "      <th>V3032</th>\n",
       "      <th>V3033</th>\n",
       "      <th>...</th>\n",
       "      <th>V4741</th>\n",
       "      <th>V4742</th>\n",
       "      <th>V4743</th>\n",
       "      <th>V4745</th>\n",
       "      <th>V4746</th>\n",
       "      <th>V4747</th>\n",
       "      <th>V4748</th>\n",
       "      <th>V4749</th>\n",
       "      <th>V4750</th>\n",
       "      <th>V9993</th>\n",
       "    </tr>\n",
       "  </thead>\n",
       "  <tbody>\n",
       "    <tr>\n",
       "      <th>0</th>\n",
       "      <td>0</td>\n",
       "      <td>2015</td>\n",
       "      <td>11</td>\n",
       "      <td>15</td>\n",
       "      <td>1</td>\n",
       "      <td>1</td>\n",
       "      <td>2</td>\n",
       "      <td>27</td>\n",
       "      <td>2</td>\n",
       "      <td>1992</td>\n",
       "      <td>...</td>\n",
       "      <td>1.0</td>\n",
       "      <td>800.0</td>\n",
       "      <td>4.0</td>\n",
       "      <td>5</td>\n",
       "      <td>1.0</td>\n",
       "      <td>2.0</td>\n",
       "      <td>2.0</td>\n",
       "      <td>1.0</td>\n",
       "      <td>800.0</td>\n",
       "      <td>20161117</td>\n",
       "    </tr>\n",
       "    <tr>\n",
       "      <th>1</th>\n",
       "      <td>1</td>\n",
       "      <td>2015</td>\n",
       "      <td>11</td>\n",
       "      <td>15</td>\n",
       "      <td>3</td>\n",
       "      <td>1</td>\n",
       "      <td>4</td>\n",
       "      <td>4</td>\n",
       "      <td>5</td>\n",
       "      <td>1992</td>\n",
       "      <td>...</td>\n",
       "      <td>1.0</td>\n",
       "      <td>1150.0</td>\n",
       "      <td>4.0</td>\n",
       "      <td>5</td>\n",
       "      <td>1.0</td>\n",
       "      <td>2.0</td>\n",
       "      <td>2.0</td>\n",
       "      <td>1.0</td>\n",
       "      <td>1150.0</td>\n",
       "      <td>20161117</td>\n",
       "    </tr>\n",
       "    <tr>\n",
       "      <th>2</th>\n",
       "      <td>2</td>\n",
       "      <td>2015</td>\n",
       "      <td>11</td>\n",
       "      <td>15</td>\n",
       "      <td>4</td>\n",
       "      <td>1</td>\n",
       "      <td>4</td>\n",
       "      <td>4</td>\n",
       "      <td>1</td>\n",
       "      <td>1980</td>\n",
       "      <td>...</td>\n",
       "      <td>6.0</td>\n",
       "      <td>793.0</td>\n",
       "      <td>4.0</td>\n",
       "      <td>6</td>\n",
       "      <td>1.0</td>\n",
       "      <td>2.0</td>\n",
       "      <td>2.0</td>\n",
       "      <td>1.0</td>\n",
       "      <td>793.0</td>\n",
       "      <td>20161117</td>\n",
       "    </tr>\n",
       "    <tr>\n",
       "      <th>3</th>\n",
       "      <td>3</td>\n",
       "      <td>2015</td>\n",
       "      <td>11</td>\n",
       "      <td>15</td>\n",
       "      <td>4</td>\n",
       "      <td>2</td>\n",
       "      <td>2</td>\n",
       "      <td>5</td>\n",
       "      <td>6</td>\n",
       "      <td>1981</td>\n",
       "      <td>...</td>\n",
       "      <td>6.0</td>\n",
       "      <td>793.0</td>\n",
       "      <td>4.0</td>\n",
       "      <td>7</td>\n",
       "      <td>1.0</td>\n",
       "      <td>2.0</td>\n",
       "      <td>2.0</td>\n",
       "      <td>1.0</td>\n",
       "      <td>793.0</td>\n",
       "      <td>20161117</td>\n",
       "    </tr>\n",
       "    <tr>\n",
       "      <th>4</th>\n",
       "      <td>4</td>\n",
       "      <td>2015</td>\n",
       "      <td>11</td>\n",
       "      <td>15</td>\n",
       "      <td>4</td>\n",
       "      <td>3</td>\n",
       "      <td>4</td>\n",
       "      <td>8</td>\n",
       "      <td>4</td>\n",
       "      <td>2004</td>\n",
       "      <td>...</td>\n",
       "      <td>6.0</td>\n",
       "      <td>793.0</td>\n",
       "      <td>4.0</td>\n",
       "      <td>2</td>\n",
       "      <td>2.0</td>\n",
       "      <td>NaN</td>\n",
       "      <td>NaN</td>\n",
       "      <td>2.0</td>\n",
       "      <td>793.0</td>\n",
       "      <td>20161117</td>\n",
       "    </tr>\n",
       "  </tbody>\n",
       "</table>\n",
       "<p>5 rows × 329 columns</p>\n",
       "</div>"
      ],
      "text/plain": [
       "   Unnamed: 0  V0101  UF  V0102  V0103  V0301  V0302  V3031  V3032  V3033  \\\n",
       "0           0   2015  11     15      1      1      2     27      2   1992   \n",
       "1           1   2015  11     15      3      1      4      4      5   1992   \n",
       "2           2   2015  11     15      4      1      4      4      1   1980   \n",
       "3           3   2015  11     15      4      2      2      5      6   1981   \n",
       "4           4   2015  11     15      4      3      4      8      4   2004   \n",
       "\n",
       "     ...     V4741   V4742  V4743  V4745  V4746  V4747  V4748  V4749   V4750  \\\n",
       "0    ...       1.0   800.0    4.0      5    1.0    2.0    2.0    1.0   800.0   \n",
       "1    ...       1.0  1150.0    4.0      5    1.0    2.0    2.0    1.0  1150.0   \n",
       "2    ...       6.0   793.0    4.0      6    1.0    2.0    2.0    1.0   793.0   \n",
       "3    ...       6.0   793.0    4.0      7    1.0    2.0    2.0    1.0   793.0   \n",
       "4    ...       6.0   793.0    4.0      2    2.0    NaN    NaN    2.0   793.0   \n",
       "\n",
       "      V9993  \n",
       "0  20161117  \n",
       "1  20161117  \n",
       "2  20161117  \n",
       "3  20161117  \n",
       "4  20161117  \n",
       "\n",
       "[5 rows x 329 columns]"
      ]
     },
     "execution_count": 7,
     "metadata": {},
     "output_type": "execute_result"
    }
   ],
   "source": [
    "#PNAD 2015\n",
    "\n",
    "dado1 = pd.read_csv(\"PES2015csv.zip\", compression = \"zip\", header = 0, sep = \",\", quotechar = '\"')\n",
    "dado1.head()"
   ]
  },
  {
   "cell_type": "code",
   "execution_count": 62,
   "metadata": {
    "collapsed": true
   },
   "outputs": [],
   "source": [
    "#variáveis a serem utilizadas\n",
    "\n",
    "dado1 = dado1.loc[:, [\"UF\", \"V0302\", \"V8005\",\"V4801\", \"V4718\"]]\n",
    "dado1.to_csv(\"resumo.csv\") #salva em um arquivo no excel\n",
    "dado1.UF = dado1.UF.astype('category')\n",
    "dado1.UF.cat.categories = ('Rondônia','Acre','Amazonas','Roraima','Pará','Amapá','Tocantins','Maranhão','Piauí','Ceará','Rio Grande do Norte','Paraíba','Pernambuco','Alagoas','Sergipe','Bahia','Minas Gerais','Espírito Santo','Rio de Janeiro','São Paulo','Paraná','Santa Catarina','Rio Grande do Sul','Mato Grosso do Sul','Mato Grosso','Goiás','Distrito Federal')\n",
    "dado1.V0302 = dado1.V0302.astype('category')\n",
    "dado1.V0302.cat.categories = ('Homem', 'Mulher')\n",
    "dado1.V4801 = dado1.V4801.astype('category')\n",
    "dado1.V4801.cat.categories = ('Maternal, jardim de infância etc.','Classe de alfabetização','Alfabetização de adultos','1ª série do ensino fundamental regular em 8 anos','2ª série do ensino fundamental regular em 8 anos','3ª série do ensino fundamental regular em 8 anos','4ª série do ensino fundamental regular em 8 anos','5ª série do ensino fundamental regular em 8 anos','6ª série do ensino fundamental regular em 8 anos','7ª série do ensino fundamental regular em 8 anos','8ª série do ensino fundamental regular em 8 anos','1ª série do ensino fundamental regular em 9 anos','2ª série do ensino fundamental regular em 9 anos','3ª série do ensino fundamental regular em 9 anos','4ª série do ensino fundamental regular em 9 anos','5ª série do ensino fundamental regular em 9 anos','6ª série do ensino fundamental regular em 9 anos','7ª série do ensino fundamental regular em 9 anos','8ª série do ensino fundamental regular em 9 anos','9ª série do ensino fundamental regular em 9 anos','Educação de jovens e adultos do ensino fundamental (seriado e não seriado)','Regular do ensino médio ','Educação de jovens e adultos do ensino médio','Pré-vestibular','Superior, inclusive mestrado e doutorado')\n",
    "dado1.loc[(dado1.UF=='Rondônia') | (dado1.UF=='Acre') | (dado1.UF=='Amazonas') | (dado1.UF=='Roraima') | (dado1.UF=='Pará') | (dado1.UF=='Amapá') | (dado1.UF=='Tocantins'),'Região'] = 'Norte'\n",
    "dado1.loc[(dado1.UF=='Maranhão') | (dado1.UF=='Piaui') | (dado1.UF=='Caerá') | (dado1.UF=='Rio Grande do Norte') | (dado1.UF=='Paraíba') | (dado1.UF=='Pernambuco') | (dado1.UF=='Alagoas') | (dado1.UF=='Sergipe') | (dado1.UF=='Bahia'),'Região'] = 'Nordeste'\n",
    "dado1.loc[(dado1.UF=='Minas Gerais') | (dado1.UF=='Espirito Santo') | (dado1.UF=='Rio de Janeiro') | (dado1.UF=='São Paulo'),'Região'] = 'Sudeste'\n",
    "dado1.loc[(dado1.UF=='Paraná') | (dado1.UF=='Santa Catarina') | (dado1.UF=='Rio Grande do Sul'),'Região'] = 'Sul'\n",
    "dado1.loc[(dado1.UF=='Mato Grosso do Sul') | (dado1.UF=='Mato Grosso') | (dado1.UF=='Goiás') | (dado1.UF=='Distrito Federal'),'Região'] = 'Centroeste'"
   ]
  },
  {
   "cell_type": "code",
   "execution_count": 64,
   "metadata": {
    "collapsed": true
   },
   "outputs": [],
   "source": [
    "#filtragem de dados de acordo com a análise a ser feita\n",
    "\n",
    "dado1=dado1[(dado1.V8005>=24)&(dado1.V8005<=60)&(dado1.V4718<50000)]\n",
    "filtro2=dado1.loc[(dado1.V4801==\"Regular do ensino médio \")| (dado1.V4801==\"Educação de jovens e adultos do ensino médio\")|(dado1.V4801==\"Pré-vestibular\")|(dado1.V4801==\"Superior, inclusive mestrado e doutorado\")]\n",
    "dado_not_null1 = filtro2[pd.notnull(filtro2.V0302)& pd.notnull(filtro2.V8005)& pd.notnull(filtro2.V4801)& pd.notnull(filtro2.V4718)]"
   ]
  },
  {
   "cell_type": "code",
   "execution_count": 66,
   "metadata": {},
   "outputs": [
    {
     "data": {
      "text/html": [
       "<div>\n",
       "<style>\n",
       "    .dataframe thead tr:only-child th {\n",
       "        text-align: right;\n",
       "    }\n",
       "\n",
       "    .dataframe thead th {\n",
       "        text-align: left;\n",
       "    }\n",
       "\n",
       "    .dataframe tbody tr th {\n",
       "        vertical-align: top;\n",
       "    }\n",
       "</style>\n",
       "<table border=\"1\" class=\"dataframe\">\n",
       "  <thead>\n",
       "    <tr style=\"text-align: right;\">\n",
       "      <th></th>\n",
       "      <th>Ensino</th>\n",
       "      <th>Idade</th>\n",
       "      <th>Região</th>\n",
       "      <th>Rendimento mensal</th>\n",
       "      <th>Sexo</th>\n",
       "    </tr>\n",
       "  </thead>\n",
       "  <tbody>\n",
       "    <tr>\n",
       "      <th>2</th>\n",
       "      <td>Superior, inclusive mestrado e doutorado</td>\n",
       "      <td>35</td>\n",
       "      <td>Norte</td>\n",
       "      <td>880.0</td>\n",
       "      <td>Mulher</td>\n",
       "    </tr>\n",
       "    <tr>\n",
       "      <th>25</th>\n",
       "      <td>Superior, inclusive mestrado e doutorado</td>\n",
       "      <td>50</td>\n",
       "      <td>Norte</td>\n",
       "      <td>1800.0</td>\n",
       "      <td>Mulher</td>\n",
       "    </tr>\n",
       "    <tr>\n",
       "      <th>38</th>\n",
       "      <td>Superior, inclusive mestrado e doutorado</td>\n",
       "      <td>24</td>\n",
       "      <td>Norte</td>\n",
       "      <td>2200.0</td>\n",
       "      <td>Homem</td>\n",
       "    </tr>\n",
       "    <tr>\n",
       "      <th>54</th>\n",
       "      <td>Superior, inclusive mestrado e doutorado</td>\n",
       "      <td>35</td>\n",
       "      <td>Norte</td>\n",
       "      <td>800.0</td>\n",
       "      <td>Mulher</td>\n",
       "    </tr>\n",
       "    <tr>\n",
       "      <th>71</th>\n",
       "      <td>Educação de jovens e adultos do ensino médio</td>\n",
       "      <td>34</td>\n",
       "      <td>Norte</td>\n",
       "      <td>1600.0</td>\n",
       "      <td>Mulher</td>\n",
       "    </tr>\n",
       "  </tbody>\n",
       "</table>\n",
       "</div>"
      ],
      "text/plain": [
       "                                          Ensino  Idade Região  \\\n",
       "2       Superior, inclusive mestrado e doutorado     35  Norte   \n",
       "25      Superior, inclusive mestrado e doutorado     50  Norte   \n",
       "38      Superior, inclusive mestrado e doutorado     24  Norte   \n",
       "54      Superior, inclusive mestrado e doutorado     35  Norte   \n",
       "71  Educação de jovens e adultos do ensino médio     34  Norte   \n",
       "\n",
       "    Rendimento mensal    Sexo  \n",
       "2               880.0  Mulher  \n",
       "25             1800.0  Mulher  \n",
       "38             2200.0   Homem  \n",
       "54              800.0  Mulher  \n",
       "71             1600.0  Mulher  "
      ]
     },
     "execution_count": 66,
     "metadata": {},
     "output_type": "execute_result"
    }
   ],
   "source": [
    "#Dataframe completa\n",
    "\n",
    "DFALL1 = pd.DataFrame({'Região':dado_not_null1['Região'],'Sexo':dado_not_null1.V0302,'Idade':dado_not_null1.V8005,'Ensino':dado_not_null1.V4801,'Rendimento mensal':dado_not_null1.V4718})\n",
    "DFALL1.head()"
   ]
  },
  {
   "cell_type": "markdown",
   "metadata": {},
   "source": [
    "___\n",
    "## Análise e Resultados"
   ]
  },
  {
   "cell_type": "markdown",
   "metadata": {},
   "source": [
    "A seguir, serão feitas as médias das rendas mensais das regiões do Brasil com o intuito de separarmos a de maior e menor renda."
   ]
  },
  {
   "cell_type": "code",
   "execution_count": 11,
   "metadata": {},
   "outputs": [
    {
     "data": {
      "text/plain": [
       "1857.4602649006622"
      ]
     },
     "execution_count": 11,
     "metadata": {},
     "output_type": "execute_result"
    }
   ],
   "source": [
    "#MÉDIA RENDA MENSAL CENTROESTE - 2011:\n",
    "DFALL['Rendimento mensal'][DFALL['Região']=='Centroeste'].mean()"
   ]
  },
  {
   "cell_type": "code",
   "execution_count": 12,
   "metadata": {},
   "outputs": [
    {
     "data": {
      "text/plain": [
       "1790.1066666666666"
      ]
     },
     "execution_count": 12,
     "metadata": {},
     "output_type": "execute_result"
    }
   ],
   "source": [
    "#MÉDIA RENDA MENSAL SUL - 2011:\n",
    "DFALL['Rendimento mensal'][DFALL['Região']=='Sul'].mean()"
   ]
  },
  {
   "cell_type": "code",
   "execution_count": 13,
   "metadata": {},
   "outputs": [
    {
     "data": {
      "text/plain": [
       "1685.918158567775"
      ]
     },
     "execution_count": 13,
     "metadata": {},
     "output_type": "execute_result"
    }
   ],
   "source": [
    "#MÉDIA RENDA MENSAL SUDESTE - 2011:\n",
    "DFALL['Rendimento mensal'][DFALL['Região']=='Sudeste'].mean()"
   ]
  },
  {
   "cell_type": "code",
   "execution_count": 14,
   "metadata": {},
   "outputs": [
    {
     "data": {
      "text/plain": [
       "1363.5004061738423"
      ]
     },
     "execution_count": 14,
     "metadata": {},
     "output_type": "execute_result"
    }
   ],
   "source": [
    "#MÉDIA RENDA MENSAL NORTE - 2011:\n",
    "DFALL['Rendimento mensal'][DFALL['Região']=='Norte'].mean()"
   ]
  },
  {
   "cell_type": "code",
   "execution_count": 15,
   "metadata": {},
   "outputs": [
    {
     "data": {
      "text/plain": [
       "1258.2558139534883"
      ]
     },
     "execution_count": 15,
     "metadata": {},
     "output_type": "execute_result"
    }
   ],
   "source": [
    "#MÉDIA RENDA MENSAL NORDESTE - 2011:\n",
    "DFALL['Rendimento mensal'][DFALL['Região']=='Nordeste'].mean()"
   ]
  },
  {
   "cell_type": "markdown",
   "metadata": {},
   "source": [
    "A partir disso, partimos da premissa de que, no ano de 2011, o Centro Oeste possui a maior renda e o Nordeste a menor, com uma diferença de 600 reais. Continuamos assim com a manipulação dos dados.\n",
    "\n",
    "Próximo passo: análise da renda mensal do Brasil."
   ]
  },
  {
   "cell_type": "code",
   "execution_count": 16,
   "metadata": {},
   "outputs": [
    {
     "data": {
      "text/plain": [
       "count     6774.000000\n",
       "mean      1552.885297\n",
       "std       1743.179770\n",
       "min          0.000000\n",
       "25%        630.000000\n",
       "50%       1000.000000\n",
       "75%       1800.000000\n",
       "max      31000.000000\n",
       "Name: Rendimento mensal, dtype: float64"
      ]
     },
     "execution_count": 16,
     "metadata": {},
     "output_type": "execute_result"
    }
   ],
   "source": [
    "#DESCRIÇÃO DA RENDA MENSAL NO BRASIL - 2011\n",
    "DFALL[\"Rendimento mensal\"].describe()"
   ]
  },
  {
   "cell_type": "markdown",
   "metadata": {},
   "source": [
    "É possível perceber que a diferença da renda mensal do Brasil e do Centro Oeste chega a 300 reais a mais para a região brasileira. Já no nordeste, essa diferença chega a ser de 300 reais a menos.\n",
    "\n",
    "Agora: analisar a renda mensal entre homens e mulheres."
   ]
  },
  {
   "cell_type": "code",
   "execution_count": 17,
   "metadata": {},
   "outputs": [
    {
     "data": {
      "text/plain": [
       "(0, 5000)"
      ]
     },
     "execution_count": 17,
     "metadata": {},
     "output_type": "execute_result"
    },
    {
     "data": {
      "image/png": "[encoded data removed]",
      "text/plain": [
       "<matplotlib.figure.Figure at 0x225008e4940>"
      ]
     },
     "metadata": {},
     "output_type": "display_data"
    }
   ],
   "source": [
    "#RENDA MENSAL HOMENS x MULHERES - 2011\n",
    "\n",
    "DFALL.boxplot(\"Rendimento mensal\", by=\"Sexo\", figsize=(8,8))\n",
    "plt.ylim(0,5000)"
   ]
  },
  {
   "cell_type": "markdown",
   "metadata": {},
   "source": [
    "A faixa de valores de renda mensal dos homens, concentrada na maior incidência, é quase duas vezes maior que a das mulheres. Mesmo sendo maior, grande parte está concentrada acima da renda mensal de maior incidência das mulheres."
   ]
  },
  {
   "cell_type": "code",
   "execution_count": 18,
   "metadata": {},
   "outputs": [
    {
     "data": {
      "text/plain": [
       "count     3766.000000\n",
       "mean      1251.479819\n",
       "std       1402.321834\n",
       "min          0.000000\n",
       "25%        545.000000\n",
       "50%        800.000000\n",
       "75%       1400.000000\n",
       "max      24000.000000\n",
       "Name: Rendimento mensal, dtype: float64"
      ]
     },
     "execution_count": 18,
     "metadata": {},
     "output_type": "execute_result"
    }
   ],
   "source": [
    "#Mulheres (descrição da renda) - 2011\n",
    "DFALL['Rendimento mensal'][DFALL['Sexo']=='Mulher'].describe()"
   ]
  },
  {
   "cell_type": "code",
   "execution_count": 19,
   "metadata": {},
   "outputs": [
    {
     "data": {
      "text/plain": [
       "count     3008.000000\n",
       "mean      1930.243351\n",
       "std       2031.232173\n",
       "min          0.000000\n",
       "25%        800.000000\n",
       "50%       1300.000000\n",
       "75%       2200.000000\n",
       "max      31000.000000\n",
       "Name: Rendimento mensal, dtype: float64"
      ]
     },
     "execution_count": 19,
     "metadata": {},
     "output_type": "execute_result"
    }
   ],
   "source": [
    "#Homens (descrição da renda) - 2011\n",
    "DFALL['Rendimento mensal'][DFALL['Sexo']=='Homem'].describe()"
   ]
  },
  {
   "cell_type": "markdown",
   "metadata": {},
   "source": [
    "A renda mensal média masculina é de, aproximadamente, 700 reais a mais que a feminina."
   ]
  },
  {
   "cell_type": "code",
   "execution_count": 80,
   "metadata": {
    "collapsed": true
   },
   "outputs": [],
   "source": [
    "#Salária mínimo em 2011 = 545 - 2011\n",
    "faixa = arange(0,5000,545)"
   ]
  },
  {
   "cell_type": "code",
   "execution_count": 78,
   "metadata": {},
   "outputs": [
    {
     "name": "stdout",
     "output_type": "stream",
     "text": [
      "Frequências relativas:\n",
      "[0, 545)        13.5\n",
      "[545, 1090)     51.4\n",
      "[1090, 1635)    18.4\n",
      "[1635, 2180)     6.7\n",
      "[2180, 2725)     3.9\n",
      "[2725, 3270)     3.0\n",
      "[3270, 3815)     1.1\n",
      "[3815, 4360)     1.2\n",
      "[4360, 4905)     0.7\n",
      "Name: Rendimento mensal, dtype: float64 \n",
      "\n"
     ]
    }
   ],
   "source": [
    "#Frequência relativa por salário mínimo - mulheres 2011\n",
    "salMcat = pd.cut(DFALL['Rendimento mensal'][DFALL['Sexo']=='Mulher'], bins=faixa, right=False)\n",
    "print('Frequências relativas:')\n",
    "x1 = (salMcat.value_counts(sort=False, normalize=True)*100).round(decimals=1)\n",
    "print(x1,'\\n')"
   ]
  },
  {
   "cell_type": "code",
   "execution_count": 79,
   "metadata": {},
   "outputs": [
    {
     "data": {
      "image/png": "[encoded data removed]",
      "text/plain": [
       "<matplotlib.figure.Figure at 0x225012ae898>"
      ]
     },
     "metadata": {},
     "output_type": "display_data"
    }
   ],
   "source": [
    "#GRÁFICO RENDA MENSAL (FREQ ABSOLTUTA) DAS MULHERES NO BRASIL - 2011\n",
    "\n",
    "# pd.DataFrame([DFALL['Rendimento mensal'][DFALL['Sexo']=='Mulher'],salMcat]).T\n",
    "DFALL['Rendimento mensal'][DFALL['Sexo']=='Mulher'].plot.hist(bins=faixa, title='Mulheres no Brasil', figsize=(6,6), color='red', alpha=0.5)\n",
    "plt.ylabel('Frequência absoluta')\n",
    "plt.xlabel('Renda Mensal R$')\n",
    "plt.show()"
   ]
  },
  {
   "cell_type": "code",
   "execution_count": 23,
   "metadata": {},
   "outputs": [
    {
     "name": "stdout",
     "output_type": "stream",
     "text": [
      "Frequências relativas:\n",
      "[0, 540)        13.3\n",
      "[540, 1080)     51.4\n",
      "[1080, 1620)    18.5\n",
      "[1620, 2160)     6.7\n",
      "[2160, 2700)     3.7\n",
      "[2700, 3240)     3.2\n",
      "[3240, 3780)     1.0\n",
      "[3780, 4320)     1.3\n",
      "[4320, 4860)     0.7\n",
      "Name: Rendimento mensal, dtype: float64 \n",
      "\n"
     ]
    }
   ],
   "source": [
    "#Frequência relativa por salário mínimo - homens 2011\n",
    "salHcat = pd.cut(DFALL['Rendimento mensal'][DFALL['Sexo']=='Homem'], bins=faixa, right=False)\n",
    "print('Frequências relativas:')\n",
    "x2 = (salMcat.value_counts(sort=False, normalize=True)*100).round(decimals=1)\n",
    "print(x2,'\\n')"
   ]
  },
  {
   "cell_type": "code",
   "execution_count": 69,
   "metadata": {},
   "outputs": [
    {
     "data": {
      "image/png": "[encoded data removed]",
      "text/plain": [
       "<matplotlib.figure.Figure at 0x225000edd30>"
      ]
     },
     "metadata": {},
     "output_type": "display_data"
    }
   ],
   "source": [
    "#GRÁFICO RENDA MENSAL (FREQ ABSOLTUTA) DOS HOMENS NO BRASIL - 2011\n",
    "\n",
    "# pd.DataFrame([DFALL['Rendimento mensal'][DFALL['Sexo']=='Homem'],salHcat]).T\n",
    "DFALL['Rendimento mensal'][DFALL['Sexo']=='Homem'].plot.hist(bins=faixa, title='´Homens no Brasil', figsize=(6,6), color='green', alpha=0.5)\n",
    "plt.ylabel('Frequência absoluta')\n",
    "plt.xlabel('Renda Mensal R$')\n",
    "plt.show()"
   ]
  },
  {
   "cell_type": "code",
   "execution_count": 70,
   "metadata": {},
   "outputs": [
    {
     "data": {
      "text/html": [
       "<div>\n",
       "<style>\n",
       "    .dataframe thead tr:only-child th {\n",
       "        text-align: right;\n",
       "    }\n",
       "\n",
       "    .dataframe thead th {\n",
       "        text-align: left;\n",
       "    }\n",
       "\n",
       "    .dataframe tbody tr th {\n",
       "        vertical-align: top;\n",
       "    }\n",
       "</style>\n",
       "<table border=\"1\" class=\"dataframe\">\n",
       "  <thead>\n",
       "    <tr style=\"text-align: right;\">\n",
       "      <th>Região</th>\n",
       "      <th>Nordeste</th>\n",
       "    </tr>\n",
       "    <tr>\n",
       "      <th>Ensino</th>\n",
       "      <th></th>\n",
       "    </tr>\n",
       "  </thead>\n",
       "  <tbody>\n",
       "    <tr>\n",
       "      <th>Regular do ensino médio</th>\n",
       "      <td>3.577158</td>\n",
       "    </tr>\n",
       "    <tr>\n",
       "      <th>Educação de jovens e adultos do ensino médio</th>\n",
       "      <td>1.331408</td>\n",
       "    </tr>\n",
       "    <tr>\n",
       "      <th>Pré-vestibular</th>\n",
       "      <td>0.112287</td>\n",
       "    </tr>\n",
       "    <tr>\n",
       "      <th>Superior, inclusive mestrado e doutorado</th>\n",
       "      <td>16.361886</td>\n",
       "    </tr>\n",
       "  </tbody>\n",
       "</table>\n",
       "</div>"
      ],
      "text/plain": [
       "Região                                         Nordeste\n",
       "Ensino                                                 \n",
       "Regular do ensino médio                        3.577158\n",
       "Educação de jovens e adultos do ensino médio   1.331408\n",
       "Pré-vestibular                                 0.112287\n",
       "Superior, inclusive mestrado e doutorado      16.361886"
      ]
     },
     "execution_count": 70,
     "metadata": {},
     "output_type": "execute_result"
    }
   ],
   "source": [
    "#ENSINO POR REGIAO: NORDESTE - 2O11\n",
    "\n",
    "ct=pd.crosstab(DFALL['Ensino'], DFALL['Região'], margins=True, rownames=['Ensino'], colnames=['Região'],normalize=True)*100\n",
    "ct=ct.loc[[\"Regular do ensino médio \",\"Educação de jovens e adultos do ensino médio\",\"Pré-vestibular\",\"Superior, inclusive mestrado e doutorado\"],['Nordeste']]\n",
    "ct"
   ]
  },
  {
   "cell_type": "code",
   "execution_count": 71,
   "metadata": {},
   "outputs": [
    {
     "data": {
      "text/plain": [
       "<matplotlib.legend.Legend at 0x225003fe1d0>"
      ]
     },
     "execution_count": 71,
     "metadata": {},
     "output_type": "execute_result"
    },
    {
     "data": {
      "image/png": "[encoded data removed]",
      "text/plain": [
       "<matplotlib.figure.Figure at 0x225003fe3c8>"
      ]
     },
     "metadata": {},
     "output_type": "display_data"
    }
   ],
   "source": [
    "plot = ct.plot(kind='pie', stacked=True,title='Ensino no Nordeste',figsize=(6,6), subplots=True)\n",
    "plt.legend(loc='lower right')"
   ]
  },
  {
   "cell_type": "markdown",
   "metadata": {},
   "source": [
    "No Nordeste, mais de 50% das pessoas obtiveram ensino Superior."
   ]
  },
  {
   "cell_type": "code",
   "execution_count": 72,
   "metadata": {},
   "outputs": [
    {
     "data": {
      "image/png": "[encoded data removed]",
      "text/plain": [
       "<matplotlib.figure.Figure at 0x22500ead908>"
      ]
     },
     "metadata": {},
     "output_type": "display_data"
    }
   ],
   "source": [
    "#RENDA HOMEM X MULHER NO NORDESTE - 2011\n",
    "\n",
    "hm=DFALL['Rendimento mensal'].loc[(DFALL['Sexo']==\"Mulher\")&(DFALL['Região']=='Nordeste')]\n",
    "hh = DFALL['Rendimento mensal'].loc[(DFALL['Sexo']==\"Homem\")&(DFALL['Região']=='Nordeste')]\n",
    "\n",
    "\n",
    "\n",
    "bins = np.linspace(0,3000,20)\n",
    "\n",
    "plt.hist(hm, bins, alpha=0.5, label='Mulher', normed=True)*100\n",
    "plt.hist(hh, bins,alpha=0.5,label='Homem', normed=True)*100\n",
    "plt.legend(loc='upper right')\n",
    "plt.ylabel('')\n",
    "plt.show()"
   ]
  },
  {
   "cell_type": "markdown",
   "metadata": {},
   "source": [
    "É possível observar, de acordo com o histograma acima, que na área de menor renda as mulheres têm maior incidência, uma vez que os homens predominam a área de maiores rendas."
   ]
  },
  {
   "cell_type": "code",
   "execution_count": 73,
   "metadata": {},
   "outputs": [
    {
     "data": {
      "text/html": [
       "<div>\n",
       "<style>\n",
       "    .dataframe thead tr:only-child th {\n",
       "        text-align: right;\n",
       "    }\n",
       "\n",
       "    .dataframe thead th {\n",
       "        text-align: left;\n",
       "    }\n",
       "\n",
       "    .dataframe tbody tr th {\n",
       "        vertical-align: top;\n",
       "    }\n",
       "</style>\n",
       "<table border=\"1\" class=\"dataframe\">\n",
       "  <thead>\n",
       "    <tr style=\"text-align: right;\">\n",
       "      <th>Região</th>\n",
       "      <th>Centroeste</th>\n",
       "    </tr>\n",
       "    <tr>\n",
       "      <th>Ensino</th>\n",
       "      <th></th>\n",
       "    </tr>\n",
       "  </thead>\n",
       "  <tbody>\n",
       "    <tr>\n",
       "      <th>Regular do ensino médio</th>\n",
       "      <td>1.716394</td>\n",
       "    </tr>\n",
       "    <tr>\n",
       "      <th>Educação de jovens e adultos do ensino médio</th>\n",
       "      <td>0.577478</td>\n",
       "    </tr>\n",
       "    <tr>\n",
       "      <th>Pré-vestibular</th>\n",
       "      <td>0.064164</td>\n",
       "    </tr>\n",
       "    <tr>\n",
       "      <th>Superior, inclusive mestrado e doutorado</th>\n",
       "      <td>12.175168</td>\n",
       "    </tr>\n",
       "  </tbody>\n",
       "</table>\n",
       "</div>"
      ],
      "text/plain": [
       "Região                                        Centroeste\n",
       "Ensino                                                  \n",
       "Regular do ensino médio                         1.716394\n",
       "Educação de jovens e adultos do ensino médio    0.577478\n",
       "Pré-vestibular                                  0.064164\n",
       "Superior, inclusive mestrado e doutorado       12.175168"
      ]
     },
     "execution_count": 73,
     "metadata": {},
     "output_type": "execute_result"
    }
   ],
   "source": [
    "#ENSINO POR REGIAO: CENTROESTE - 2011\n",
    "\n",
    "ct1=pd.crosstab(DFALL['Ensino'], DFALL['Região'], margins=True, rownames=['Ensino'], colnames=['Região'],normalize=True)*100\n",
    "ct1=ct1.loc[[\"Regular do ensino médio \",\"Educação de jovens e adultos do ensino médio\",\"Pré-vestibular\",\"Superior, inclusive mestrado e doutorado\"],['Centroeste']]\n",
    "ct1"
   ]
  },
  {
   "cell_type": "code",
   "execution_count": 74,
   "metadata": {},
   "outputs": [
    {
     "data": {
      "text/plain": [
       "<matplotlib.legend.Legend at 0x22500608d30>"
      ]
     },
     "execution_count": 74,
     "metadata": {},
     "output_type": "execute_result"
    },
    {
     "data": {
      "image/png": "[encoded data removed]",
      "text/plain": [
       "<matplotlib.figure.Figure at 0x22500608710>"
      ]
     },
     "metadata": {},
     "output_type": "display_data"
    }
   ],
   "source": [
    "plot = ct1.plot(kind='pie', stacked=True,title='Ensino no Centroeste',figsize=(6,6), subplots=True)\n",
    "plt.legend(loc='lower left')"
   ]
  },
  {
   "cell_type": "markdown",
   "metadata": {},
   "source": [
    "No Centro Oeste, também, mais de 50% das pessoas possuem ensino superior."
   ]
  },
  {
   "cell_type": "code",
   "execution_count": 75,
   "metadata": {},
   "outputs": [
    {
     "data": {
      "image/png": "[encoded data removed]",
      "text/plain": [
       "<matplotlib.figure.Figure at 0x2253ea0f240>"
      ]
     },
     "metadata": {},
     "output_type": "display_data"
    }
   ],
   "source": [
    "#RENDA HOMEM X MULHER NO CENTROESTE - 2011\n",
    "\n",
    "hm=DFALL['Rendimento mensal'].loc[(DFALL['Sexo']==\"Mulher\")&(DFALL['Região']=='Centroeste')]\n",
    "hh = DFALL['Rendimento mensal'].loc[(DFALL['Sexo']==\"Homem\")&(DFALL['Região']=='Centroeste')]\n",
    "\n",
    "\n",
    "\n",
    "bins = np.linspace(0,3000,20)\n",
    "\n",
    "plt.hist(hm, bins, alpha=0.5, label='Mulher', normed=True)*100\n",
    "plt.hist(hh, bins,alpha=0.5,label='Homem', normed=True)*100\n",
    "plt.legend(loc='upper right')\n",
    "plt.ylabel('')\n",
    "plt.show()"
   ]
  },
  {
   "cell_type": "markdown",
   "metadata": {},
   "source": [
    "A discrepância entre os menores e maiores salários entre homens em mulheres é bem maior no Centro Oeste, como é possível observar no gráfico acima. Mais uma vez, os homens predominam a área das maiores rendas mensais."
   ]
  },
  {
   "cell_type": "code",
   "execution_count": 32,
   "metadata": {},
   "outputs": [
    {
     "data": {
      "text/plain": [
       "2502.740956826138"
      ]
     },
     "execution_count": 32,
     "metadata": {},
     "output_type": "execute_result"
    }
   ],
   "source": [
    "#MÉDIA RENDA MENSAL CENTROESTE - 2015:\n",
    "DFALL1['Rendimento mensal'][DFALL1['Região']=='Centroeste'].mean()"
   ]
  },
  {
   "cell_type": "code",
   "execution_count": 33,
   "metadata": {},
   "outputs": [
    {
     "data": {
      "text/plain": [
       "2349.249080882353"
      ]
     },
     "execution_count": 33,
     "metadata": {},
     "output_type": "execute_result"
    }
   ],
   "source": [
    "#MÉDIA RENDA MENSAL SUL - 2015:\n",
    "DFALL1['Rendimento mensal'][DFALL1['Região']=='Sul'].mean()"
   ]
  },
  {
   "cell_type": "code",
   "execution_count": 34,
   "metadata": {},
   "outputs": [
    {
     "data": {
      "text/plain": [
       "2236.0845518118244"
      ]
     },
     "execution_count": 34,
     "metadata": {},
     "output_type": "execute_result"
    }
   ],
   "source": [
    "#MÉDIA RENDA MENSAL SUDESTE - 2015\n",
    "DFALL1['Rendimento mensal'][DFALL1['Região']=='Sudeste'].mean()"
   ]
  },
  {
   "cell_type": "code",
   "execution_count": 35,
   "metadata": {},
   "outputs": [
    {
     "data": {
      "text/plain": [
       "1658.0143815915628"
      ]
     },
     "execution_count": 35,
     "metadata": {},
     "output_type": "execute_result"
    }
   ],
   "source": [
    "#MÉDIA RENDA MENSAL NORTE - 2015:\n",
    "DFALL1['Rendimento mensal'][DFALL1['Região']=='Norte'].mean()"
   ]
  },
  {
   "cell_type": "code",
   "execution_count": 36,
   "metadata": {},
   "outputs": [
    {
     "data": {
      "text/plain": [
       "1518.8594276094277"
      ]
     },
     "execution_count": 36,
     "metadata": {},
     "output_type": "execute_result"
    }
   ],
   "source": [
    "#MÉDIA RENDA MENSAL NORDESTE - 2015:\n",
    "DFALL1['Rendimento mensal'][DFALL1['Região']=='Nordeste'].mean()"
   ]
  },
  {
   "cell_type": "markdown",
   "metadata": {},
   "source": [
    "No ano de 2015, o Centro Oeste ainda ocupa a posição de região com a maior renda mensal, e o Nordeste continua em última posição. Porém, a diferença entre as duas regiões caiu para 500 reais."
   ]
  },
  {
   "cell_type": "code",
   "execution_count": 37,
   "metadata": {},
   "outputs": [
    {
     "data": {
      "text/plain": [
       "count     6249.000000\n",
       "mean      2014.998560\n",
       "std       2105.900143\n",
       "min          0.000000\n",
       "25%        900.000000\n",
       "50%       1435.000000\n",
       "75%       2300.000000\n",
       "max      35000.000000\n",
       "Name: Rendimento mensal, dtype: float64"
      ]
     },
     "execution_count": 37,
     "metadata": {},
     "output_type": "execute_result"
    }
   ],
   "source": [
    "#DESCRIÇÃO DA RENDA MENSAL NO BRASIL - 2015\n",
    "DFALL1[\"Rendimento mensal\"].describe()"
   ]
  },
  {
   "cell_type": "markdown",
   "metadata": {},
   "source": [
    "A diferença entre a renda mensal brasileira e das regiões de maior e menor número aumentou para 500 reais, a mais e a menos."
   ]
  },
  {
   "cell_type": "code",
   "execution_count": 38,
   "metadata": {},
   "outputs": [
    {
     "data": {
      "text/plain": [
       "(0, 7000)"
      ]
     },
     "execution_count": 38,
     "metadata": {},
     "output_type": "execute_result"
    },
    {
     "data": {
      "image/png": "[encoded data removed]",
      "text/plain": [
       "<matplotlib.figure.Figure at 0x2250031b550>"
      ]
     },
     "metadata": {},
     "output_type": "display_data"
    }
   ],
   "source": [
    "#RENDA MENSAL HOMENS x MULHERES - 2015\n",
    "\n",
    "DFALL1.boxplot(\"Rendimento mensal\", by=\"Sexo\", figsize=(8,8))\n",
    "plt.ylim(0,7000)"
   ]
  },
  {
   "cell_type": "markdown",
   "metadata": {},
   "source": [
    "As mulheres continuam com a faixa salarial de maior incidência menor que a dos homens. O salário dos indivíduos do sexo masculino podem estar chegando a 3000, quando os do sexo feminino estarão chegando a 2000. (A reportagem da Globo nos aponta exatamente essa desigualdade)"
   ]
  },
  {
   "cell_type": "code",
   "execution_count": 39,
   "metadata": {},
   "outputs": [
    {
     "data": {
      "text/plain": [
       "count     3373.000000\n",
       "mean      1652.477023\n",
       "std       1713.708006\n",
       "min          0.000000\n",
       "25%        788.000000\n",
       "50%       1200.000000\n",
       "75%       2000.000000\n",
       "max      25000.000000\n",
       "Name: Rendimento mensal, dtype: float64"
      ]
     },
     "execution_count": 39,
     "metadata": {},
     "output_type": "execute_result"
    }
   ],
   "source": [
    "#Mulheres (descrição da renda) - 2015\n",
    "DFALL1['Rendimento mensal'][DFALL1['Sexo']=='Mulher'].describe()"
   ]
  },
  {
   "cell_type": "code",
   "execution_count": 40,
   "metadata": {},
   "outputs": [
    {
     "data": {
      "text/plain": [
       "count     2876.000000\n",
       "mean      2440.167246\n",
       "std       2420.397209\n",
       "min          0.000000\n",
       "25%       1100.000000\n",
       "50%       1800.000000\n",
       "75%       3000.000000\n",
       "max      35000.000000\n",
       "Name: Rendimento mensal, dtype: float64"
      ]
     },
     "execution_count": 40,
     "metadata": {},
     "output_type": "execute_result"
    }
   ],
   "source": [
    "#Homens (descrição da renda) - 2015\n",
    "DFALL1['Rendimento mensal'][DFALL1['Sexo']=='Homem'].describe()#faixas"
   ]
  },
  {
   "cell_type": "markdown",
   "metadata": {},
   "source": [
    "A diferença da renda mensal média entre homens e mulheres quase duplicou (1200 reais de diferença)."
   ]
  },
  {
   "cell_type": "code",
   "execution_count": 41,
   "metadata": {
    "collapsed": true
   },
   "outputs": [],
   "source": [
    "#Salária mínimo em 2015 = 788\n",
    "faixa1 = arange(0,6000,788)"
   ]
  },
  {
   "cell_type": "code",
   "execution_count": 42,
   "metadata": {},
   "outputs": [
    {
     "name": "stdout",
     "output_type": "stream",
     "text": [
      "Frequências relativas:\n",
      "[0, 788)        13.7\n",
      "[788, 1576)     55.7\n",
      "[1576, 2364)    16.4\n",
      "[2364, 3152)     7.9\n",
      "[3152, 3940)     2.4\n",
      "[3940, 4728)     2.3\n",
      "[4728, 5516)     1.6\n",
      "Name: Rendimento mensal, dtype: float64 \n",
      "\n"
     ]
    }
   ],
   "source": [
    "#Frequência relativa por salário mínimo - mulheres 2015\n",
    "salMcat1 = pd.cut(DFALL1['Rendimento mensal'][DFALL1['Sexo']=='Mulher'], bins=faixa1, right=False)\n",
    "print('Frequências relativas:')\n",
    "y1 = (salMcat1.value_counts(sort=False, normalize=True)*100).round(decimals=1)\n",
    "print(y1,'\\n')"
   ]
  },
  {
   "cell_type": "code",
   "execution_count": 43,
   "metadata": {},
   "outputs": [
    {
     "data": {
      "image/png": "[encoded data removed]",
      "text/plain": [
       "<matplotlib.figure.Figure at 0x225009a9940>"
      ]
     },
     "metadata": {},
     "output_type": "display_data"
    }
   ],
   "source": [
    "#GRÁFICO RENDA MENSAL (FREQ ABSOLTUTA) DAS MULHERES NO BRASIL - 2015\n",
    "\n",
    "# pd.DataFrame([DFALL['Rendimento mensal'][DFALL['Sexo']=='Mulher'],salMcat]).T\n",
    "DFALL1['Rendimento mensal'][DFALL1['Sexo']=='Mulher'].plot.hist(bins=faixa1, title='Mulheres no Brasil', figsize=(6,6), color='red', alpha=0.5)\n",
    "plt.ylabel('Frequência absoluta')\n",
    "plt.xlabel('Renda Mensal R$')\n",
    "plt.show()"
   ]
  },
  {
   "cell_type": "code",
   "execution_count": 44,
   "metadata": {},
   "outputs": [
    {
     "name": "stdout",
     "output_type": "stream",
     "text": [
      "Frequências relativas:\n",
      "[0, 540)        13.3\n",
      "[540, 1080)     51.4\n",
      "[1080, 1620)    18.5\n",
      "[1620, 2160)     6.7\n",
      "[2160, 2700)     3.7\n",
      "[2700, 3240)     3.2\n",
      "[3240, 3780)     1.0\n",
      "[3780, 4320)     1.3\n",
      "[4320, 4860)     0.7\n",
      "Name: Rendimento mensal, dtype: float64 \n",
      "\n"
     ]
    }
   ],
   "source": [
    "#Frequência relativa por salário mínimo - homens 2015\n",
    "salHcat1 = pd.cut(DFALL1['Rendimento mensal'][DFALL1['Sexo']=='Homem'], bins=faixa1, right=False)\n",
    "print('Frequências relativas:')\n",
    "y2 = (salMcat.value_counts(sort=False, normalize=True)*100).round(decimals=1)\n",
    "print(y2,'\\n')"
   ]
  },
  {
   "cell_type": "code",
   "execution_count": 45,
   "metadata": {},
   "outputs": [
    {
     "data": {
      "image/png": "[encoded data removed]",
      "text/plain": [
       "<matplotlib.figure.Figure at 0x225001ec2e8>"
      ]
     },
     "metadata": {},
     "output_type": "display_data"
    }
   ],
   "source": [
    "#GRÁFICO RENDA MENSAL (FREQ ABSOLTUTA) DOS HOMENS NO BRASIL - 2015\n",
    "\n",
    "# pd.DataFrame([DFALL['Rendimento mensal'][DFALL['Sexo']=='Homem'],salHcat]).T\n",
    "DFALL1['Rendimento mensal'][DFALL1['Sexo']=='Homem'].plot.hist(bins=faixa1, title='´Homens no Brasil', figsize=(6,6), color='green', alpha=0.5)\n",
    "plt.ylabel('Frequência absoluta')\n",
    "plt.xlabel('Renda Mensal R$')\n",
    "plt.show()"
   ]
  },
  {
   "cell_type": "code",
   "execution_count": 46,
   "metadata": {},
   "outputs": [
    {
     "data": {
      "text/html": [
       "<div>\n",
       "<style>\n",
       "    .dataframe thead tr:only-child th {\n",
       "        text-align: right;\n",
       "    }\n",
       "\n",
       "    .dataframe thead th {\n",
       "        text-align: left;\n",
       "    }\n",
       "\n",
       "    .dataframe tbody tr th {\n",
       "        vertical-align: top;\n",
       "    }\n",
       "</style>\n",
       "<table border=\"1\" class=\"dataframe\">\n",
       "  <thead>\n",
       "    <tr style=\"text-align: right;\">\n",
       "      <th>Região</th>\n",
       "      <th>Nordeste</th>\n",
       "    </tr>\n",
       "    <tr>\n",
       "      <th>Ensino</th>\n",
       "      <th></th>\n",
       "    </tr>\n",
       "  </thead>\n",
       "  <tbody>\n",
       "    <tr>\n",
       "      <th>Regular do ensino médio</th>\n",
       "      <td>1.617673</td>\n",
       "    </tr>\n",
       "    <tr>\n",
       "      <th>Educação de jovens e adultos do ensino médio</th>\n",
       "      <td>0.834928</td>\n",
       "    </tr>\n",
       "    <tr>\n",
       "      <th>Pré-vestibular</th>\n",
       "      <td>0.000000</td>\n",
       "    </tr>\n",
       "    <tr>\n",
       "      <th>Superior, inclusive mestrado e doutorado</th>\n",
       "      <td>18.211863</td>\n",
       "    </tr>\n",
       "  </tbody>\n",
       "</table>\n",
       "</div>"
      ],
      "text/plain": [
       "Região                                         Nordeste\n",
       "Ensino                                                 \n",
       "Regular do ensino médio                        1.617673\n",
       "Educação de jovens e adultos do ensino médio   0.834928\n",
       "Pré-vestibular                                 0.000000\n",
       "Superior, inclusive mestrado e doutorado      18.211863"
      ]
     },
     "execution_count": 46,
     "metadata": {},
     "output_type": "execute_result"
    }
   ],
   "source": [
    "#ENSINO POR REGIAO: NORDESTE - 2O15\n",
    "\n",
    "ct2=pd.crosstab(DFALL1['Ensino'], DFALL1['Região'], margins=True, rownames=['Ensino'], colnames=['Região'],normalize=True)*100\n",
    "ct2=ct2.loc[[\"Regular do ensino médio \",\"Educação de jovens e adultos do ensino médio\",\"Pré-vestibular\",\"Superior, inclusive mestrado e doutorado\"],['Nordeste']]\n",
    "ct2"
   ]
  },
  {
   "cell_type": "code",
   "execution_count": 47,
   "metadata": {},
   "outputs": [
    {
     "data": {
      "text/plain": [
       "<matplotlib.legend.Legend at 0x22500312e48>"
      ]
     },
     "execution_count": 47,
     "metadata": {},
     "output_type": "execute_result"
    },
    {
     "data": {
      "image/png": "[encoded data removed]",
      "text/plain": [
       "<matplotlib.figure.Figure at 0x2250017f9e8>"
      ]
     },
     "metadata": {},
     "output_type": "display_data"
    }
   ],
   "source": [
    "plot = ct2.plot(kind='pie', stacked=True,title='Ensino no Nordeste',figsize=(6,6), subplots=True)\n",
    "plt.legend(loc='lower right')"
   ]
  },
  {
   "cell_type": "markdown",
   "metadata": {},
   "source": [
    "O número de pessoas com ensino superior no nordeste permanece predominante."
   ]
  },
  {
   "cell_type": "code",
   "execution_count": 48,
   "metadata": {},
   "outputs": [
    {
     "data": {
      "image/png": "[encoded data removed]",
      "text/plain": [
       "<matplotlib.figure.Figure at 0x2250045aa90>"
      ]
     },
     "metadata": {},
     "output_type": "display_data"
    }
   ],
   "source": [
    "#RENDA HOMEM X MULHER NO NORDESTE - 2015\n",
    "\n",
    "hm1=DFALL1['Rendimento mensal'].loc[(DFALL1['Sexo']==\"Mulher\")&(DFALL1['Região']=='Nordeste')]\n",
    "hh1 = DFALL1['Rendimento mensal'].loc[(DFALL1['Sexo']==\"Homem\")&(DFALL1['Região']=='Nordeste')]\n",
    "\n",
    "\n",
    "\n",
    "bins = np.linspace(0,3000,20)\n",
    "\n",
    "plt.hist(hm1, bins, alpha=0.5, label='Mulher', normed=True)*100\n",
    "plt.hist(hh1, bins,alpha=0.5,label='Homem', normed=True)*100\n",
    "plt.legend(loc='upper right')\n",
    "plt.ylabel('')\n",
    "plt.show()"
   ]
  },
  {
   "cell_type": "markdown",
   "metadata": {},
   "source": [
    "Comparado com o histograma da região Nordeste de 2011, percebe-se um aumento na densidade da diferença da renda entre homens e mulheres nos maiores valores."
   ]
  },
  {
   "cell_type": "code",
   "execution_count": 49,
   "metadata": {},
   "outputs": [
    {
     "data": {
      "text/html": [
       "<div>\n",
       "<style>\n",
       "    .dataframe thead tr:only-child th {\n",
       "        text-align: right;\n",
       "    }\n",
       "\n",
       "    .dataframe thead th {\n",
       "        text-align: left;\n",
       "    }\n",
       "\n",
       "    .dataframe tbody tr th {\n",
       "        vertical-align: top;\n",
       "    }\n",
       "</style>\n",
       "<table border=\"1\" class=\"dataframe\">\n",
       "  <thead>\n",
       "    <tr style=\"text-align: right;\">\n",
       "      <th>Região</th>\n",
       "      <th>Centroeste</th>\n",
       "    </tr>\n",
       "    <tr>\n",
       "      <th>Ensino</th>\n",
       "      <th></th>\n",
       "    </tr>\n",
       "  </thead>\n",
       "  <tbody>\n",
       "    <tr>\n",
       "      <th>Regular do ensino médio</th>\n",
       "      <td>0.817533</td>\n",
       "    </tr>\n",
       "    <tr>\n",
       "      <th>Educação de jovens e adultos do ensino médio</th>\n",
       "      <td>0.765350</td>\n",
       "    </tr>\n",
       "    <tr>\n",
       "      <th>Pré-vestibular</th>\n",
       "      <td>0.034789</td>\n",
       "    </tr>\n",
       "    <tr>\n",
       "      <th>Superior, inclusive mestrado e doutorado</th>\n",
       "      <td>13.289268</td>\n",
       "    </tr>\n",
       "  </tbody>\n",
       "</table>\n",
       "</div>"
      ],
      "text/plain": [
       "Região                                        Centroeste\n",
       "Ensino                                                  \n",
       "Regular do ensino médio                         0.817533\n",
       "Educação de jovens e adultos do ensino médio    0.765350\n",
       "Pré-vestibular                                  0.034789\n",
       "Superior, inclusive mestrado e doutorado       13.289268"
      ]
     },
     "execution_count": 49,
     "metadata": {},
     "output_type": "execute_result"
    }
   ],
   "source": [
    "#ENSINO POR REGIAO: CENTROESTE - 2015\n",
    "\n",
    "ct3=pd.crosstab(DFALL1['Ensino'], DFALL1['Região'], margins=True, rownames=['Ensino'], colnames=['Região'],normalize=True)*100\n",
    "ct3=ct3.loc[[\"Regular do ensino médio \",\"Educação de jovens e adultos do ensino médio\",\"Pré-vestibular\",\"Superior, inclusive mestrado e doutorado\"],['Centroeste']]\n",
    "ct3"
   ]
  },
  {
   "cell_type": "code",
   "execution_count": 50,
   "metadata": {},
   "outputs": [
    {
     "data": {
      "text/plain": [
       "<matplotlib.legend.Legend at 0x22500402588>"
      ]
     },
     "execution_count": 50,
     "metadata": {},
     "output_type": "execute_result"
    },
    {
     "data": {
      "image/png": "[encoded data removed]",
      "text/plain": [
       "<matplotlib.figure.Figure at 0x225004025f8>"
      ]
     },
     "metadata": {},
     "output_type": "display_data"
    }
   ],
   "source": [
    "plot = ct3.plot(kind='pie', stacked=True,title='Ensino no Centroeste',figsize=(6,6), subplots=True)\n",
    "plt.legend(loc='lower left')"
   ]
  },
  {
   "cell_type": "markdown",
   "metadata": {},
   "source": [
    "O número de pessoas com ensino superior no Centro Oestre permanece predominante."
   ]
  },
  {
   "cell_type": "code",
   "execution_count": 51,
   "metadata": {},
   "outputs": [
    {
     "data": {
      "image/png": "[encoded data removed]",
      "text/plain": [
       "<matplotlib.figure.Figure at 0x225009a9cf8>"
      ]
     },
     "metadata": {},
     "output_type": "display_data"
    }
   ],
   "source": [
    "#RENDA HOMEM X MULHER NO CENTROESTE - 2015\n",
    "\n",
    "hm1=DFALL1['Rendimento mensal'].loc[(DFALL1['Sexo']==\"Mulher\")&(DFALL1['Região']=='Centroeste')]\n",
    "hh1 = DFALL1['Rendimento mensal'].loc[(DFALL1['Sexo']==\"Homem\")&(DFALL1['Região']=='Centroeste')]\n",
    "\n",
    "\n",
    "\n",
    "bins = np.linspace(0,3000,20)\n",
    "\n",
    "plt.hist(hm1, bins, alpha=0.5, label='Mulher', normed=True)*100\n",
    "plt.hist(hh1, bins,alpha=0.5,label='Homem', normed=True)*100\n",
    "plt.legend(loc='upper right')\n",
    "plt.ylabel('')\n",
    "plt.show()"
   ]
  },
  {
   "cell_type": "markdown",
   "metadata": {},
   "source": [
    "Comparado com o histograma da região do Centro Oeste brasileiro de 2011, a maior densidade nos intervalos de maior renda permanecem predominantes aos homens."
   ]
  },
  {
   "cell_type": "markdown",
   "metadata": {},
   "source": [
    "___\n",
    "## Conclusão "
   ]
  },
  {
   "cell_type": "markdown",
   "metadata": {
    "collapsed": true
   },
   "source": [
    "A análise do projeto nos faz concluir que existe uma grande desvalorização do trabalho feminino no Brasil.\n",
    "\n",
    "De acordo com pesquisas feitas, as mulheres possuem nível de ensino mais altos que indivíduos do sexo masculino. Inclusive, tendem a trabalhar mais horas por dia do que os homens, devido a dupla jornada. Mesmo assim, sua renda mensal é inferior à dos homens. Essa situação pode se mostrar ainda mais crítica para mulheres negras, imigrantes e mães.\n",
    "\n",
    "Observando os gráficos, tabelas, e dados apresentados nesse trabalho, foi possível notar, que de 2011 para 2015, a desigualdade aumentou. A renda média das mulheres, em 2011, apresentava uma valor inferior à 700 reais da renda dos homens. Já em 2015, essa diferença aumentou para 1200.\n",
    "\n",
    "Fazendo a mesma análise nas regiões de maior e menor renda do Brasil, essa discrepância se mostra ainda maior. No Centro Oeste (região de valores salariais mensais mais altos) a diferença é bem maior do que no Nordeste (valores mais baixos). E, em todo momento, os homens recebem os valores mais altos podendo chegar à quase 6000 reais e as mulheres à quase 4000 (em 2015).\n",
    "\n",
    "Pesquisas mais atuais mostram que essa desigualdade salarial permanece. Porém, maiores intervenções estão acontecendo nesse meio, tornando cada vez mais questionável a desvalorização do trabalho da mulher."
   ]
  },
  {
   "cell_type": "markdown",
   "metadata": {},
   "source": [
    "Foi utilizado como apoio para o projeto as seguintes reportagens: \n",
    "\n",
    "https://g1.globo.com/economia/noticia/diferenca-de-salario-medio-de-homens-e-mulheres-pode-chegar-a-quase-r-1-mil-no-pais-aponta-ibge.ghtml\n",
    "\n",
    "https://veja.abril.com.br/educacao/mesmo-com-nivel-de-escolaridade-mais-alto-mulheres-ganham-menos-que-os-homens/\n",
    "\n",
    "http://meusalario.uol.com.br/main/salario-e-renda/igualdade-de-pagamentos/diferenca-salarial-entre-generos-perguntas-frequentes\n",
    "\n",
    "http://agenciabrasil.ebc.com.br/geral/noticia/2017-03/mulheres-trabalham-75-horas-mais-que-homens-devido-dupla-jornada\n",
    "\n",
    "http://www.guiatrabalhista.com.br/guia/salario_minimo.htm\n",
    "\n",
    "http://www.meunegociobrilhante.com.br/primeiros-passos/derrube-mitos/desigualdade-salarial/\n",
    "\n",
    "https://g1.globo.com/economia/concursos-e-emprego/noticia/mulheres-ganham-menos-do-que-os-homens-em-todos-os-cargos-diz-pesquisa.ghtml"
   ]
  }
 ],
 "metadata": {
  "anaconda-cloud": {},
  "kernelspec": {
   "display_name": "Python 3",
   "language": "python",
   "name": "python3"
  },
  "language_info": {
   "codemirror_mode": {
    "name": "ipython",
    "version": 3
   },
   "file_extension": ".py",
   "mimetype": "text/x-python",
   "name": "python",
   "nbconvert_exporter": "python",
   "pygments_lexer": "ipython3",
   "version": "3.6.1"
  }
 },
 "nbformat": 4,
 "nbformat_minor": 1
}
